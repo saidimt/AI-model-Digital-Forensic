{
  "nbformat": 4,
  "nbformat_minor": 0,
  "metadata": {
    "colab": {
      "provenance": [],
      "authorship_tag": "ABX9TyOPaETqN1FZCxofMoUfPTRi",
      "include_colab_link": true
    },
    "kernelspec": {
      "name": "python3",
      "display_name": "Python 3"
    },
    "language_info": {
      "name": "python"
    }
  },
  "cells": [
    {
      "cell_type": "markdown",
      "metadata": {
        "id": "view-in-github",
        "colab_type": "text"
      },
      "source": [
        "<a href=\"https://colab.research.google.com/github/saidimt/AI-model-Digital-Forensic/blob/main/TF_20.ipynb\" target=\"_parent\"><img src=\"https://colab.research.google.com/assets/colab-badge.svg\" alt=\"Open In Colab\"/></a>"
      ]
    },
    {
      "cell_type": "markdown",
      "source": [
        "# Publick link"
      ],
      "metadata": {
        "id": "6RX0nkZIt74f"
      }
    },
    {
      "cell_type": "code",
      "source": [
        "!wget https://raw.githubusercontent.com/saidimt/titanic-data/main/titanic%20passenger%20list.csv"
      ],
      "metadata": {
        "colab": {
          "base_uri": "https://localhost:8080/"
        },
        "id": "KiVFZe3tt_7w",
        "outputId": "b89e4f43-dbef-42f2-f0d0-1ebe2376e7bd"
      },
      "execution_count": null,
      "outputs": [
        {
          "output_type": "stream",
          "name": "stdout",
          "text": [
            "--2023-10-31 12:35:53--  https://raw.githubusercontent.com/saidimt/titanic-data/main/titanic%20passenger%20list.csv\n",
            "Resolving raw.githubusercontent.com (raw.githubusercontent.com)... 185.199.108.133, 185.199.109.133, 185.199.110.133, ...\n",
            "Connecting to raw.githubusercontent.com (raw.githubusercontent.com)|185.199.108.133|:443... connected.\n",
            "HTTP request sent, awaiting response... 200 OK\n",
            "Length: 118062 (115K) [text/plain]\n",
            "Saving to: ‘titanic passenger list.csv’\n",
            "\n",
            "titanic passenger l 100%[===================>] 115.29K  --.-KB/s    in 0.08s   \n",
            "\n",
            "2023-10-31 12:35:53 (1.46 MB/s) - ‘titanic passenger list.csv’ saved [118062/118062]\n",
            "\n"
          ]
        }
      ]
    },
    {
      "cell_type": "code",
      "source": [
        "!ls"
      ],
      "metadata": {
        "colab": {
          "base_uri": "https://localhost:8080/"
        },
        "id": "RVG5A3lBvGuC",
        "outputId": "5152d817-deec-4197-d3ab-3a3caca39c02"
      },
      "execution_count": null,
      "outputs": [
        {
          "output_type": "stream",
          "name": "stdout",
          "text": [
            " sample_data  'titanic passenger list.csv'\n"
          ]
        }
      ]
    },
    {
      "cell_type": "code",
      "source": [
        "import pandas as pd\n"
      ],
      "metadata": {
        "id": "2UNWl2CRvIiW"
      },
      "execution_count": null,
      "outputs": []
    },
    {
      "cell_type": "code",
      "source": [
        "pd.read_csv('titanic passenger list.csv').head()"
      ],
      "metadata": {
        "colab": {
          "base_uri": "https://localhost:8080/",
          "height": 275
        },
        "id": "f6r0ChUGv5zI",
        "outputId": "84e9234e-d734-4fda-e0da-c188517e1265"
      },
      "execution_count": 11,
      "outputs": [
        {
          "output_type": "execute_result",
          "data": {
            "text/plain": [
              "   pclass  survived                                             name     sex  \\\n",
              "0       1         1                    Allen, Miss. Elisabeth Walton  female   \n",
              "1       1         1                   Allison, Master. Hudson Trevor    male   \n",
              "2       1         0                     Allison, Miss. Helen Loraine  female   \n",
              "3       1         0             Allison, Mr. Hudson Joshua Creighton    male   \n",
              "4       1         0  Allison, Mrs. Hudson J C (Bessie Waldo Daniels)  female   \n",
              "\n",
              "     age  sibsp  parch  ticket      fare    cabin embarked boat   body  \\\n",
              "0  29.00      0      0   24160  211.3375       B5        S    2    NaN   \n",
              "1   0.92      1      2  113781  151.5500  C22 C26        S   11    NaN   \n",
              "2   2.00      1      2  113781  151.5500  C22 C26        S  NaN    NaN   \n",
              "3  30.00      1      2  113781  151.5500  C22 C26        S  NaN  135.0   \n",
              "4  25.00      1      2  113781  151.5500  C22 C26        S  NaN    NaN   \n",
              "\n",
              "                         home.dest  \n",
              "0                     St Louis, MO  \n",
              "1  Montreal, PQ / Chesterville, ON  \n",
              "2  Montreal, PQ / Chesterville, ON  \n",
              "3  Montreal, PQ / Chesterville, ON  \n",
              "4  Montreal, PQ / Chesterville, ON  "
            ],
            "text/html": [
              "\n",
              "  <div id=\"df-0f15f412-418d-49ef-a183-cb8cd7cba46d\" class=\"colab-df-container\">\n",
              "    <div>\n",
              "<style scoped>\n",
              "    .dataframe tbody tr th:only-of-type {\n",
              "        vertical-align: middle;\n",
              "    }\n",
              "\n",
              "    .dataframe tbody tr th {\n",
              "        vertical-align: top;\n",
              "    }\n",
              "\n",
              "    .dataframe thead th {\n",
              "        text-align: right;\n",
              "    }\n",
              "</style>\n",
              "<table border=\"1\" class=\"dataframe\">\n",
              "  <thead>\n",
              "    <tr style=\"text-align: right;\">\n",
              "      <th></th>\n",
              "      <th>pclass</th>\n",
              "      <th>survived</th>\n",
              "      <th>name</th>\n",
              "      <th>sex</th>\n",
              "      <th>age</th>\n",
              "      <th>sibsp</th>\n",
              "      <th>parch</th>\n",
              "      <th>ticket</th>\n",
              "      <th>fare</th>\n",
              "      <th>cabin</th>\n",
              "      <th>embarked</th>\n",
              "      <th>boat</th>\n",
              "      <th>body</th>\n",
              "      <th>home.dest</th>\n",
              "    </tr>\n",
              "  </thead>\n",
              "  <tbody>\n",
              "    <tr>\n",
              "      <th>0</th>\n",
              "      <td>1</td>\n",
              "      <td>1</td>\n",
              "      <td>Allen, Miss. Elisabeth Walton</td>\n",
              "      <td>female</td>\n",
              "      <td>29.00</td>\n",
              "      <td>0</td>\n",
              "      <td>0</td>\n",
              "      <td>24160</td>\n",
              "      <td>211.3375</td>\n",
              "      <td>B5</td>\n",
              "      <td>S</td>\n",
              "      <td>2</td>\n",
              "      <td>NaN</td>\n",
              "      <td>St Louis, MO</td>\n",
              "    </tr>\n",
              "    <tr>\n",
              "      <th>1</th>\n",
              "      <td>1</td>\n",
              "      <td>1</td>\n",
              "      <td>Allison, Master. Hudson Trevor</td>\n",
              "      <td>male</td>\n",
              "      <td>0.92</td>\n",
              "      <td>1</td>\n",
              "      <td>2</td>\n",
              "      <td>113781</td>\n",
              "      <td>151.5500</td>\n",
              "      <td>C22 C26</td>\n",
              "      <td>S</td>\n",
              "      <td>11</td>\n",
              "      <td>NaN</td>\n",
              "      <td>Montreal, PQ / Chesterville, ON</td>\n",
              "    </tr>\n",
              "    <tr>\n",
              "      <th>2</th>\n",
              "      <td>1</td>\n",
              "      <td>0</td>\n",
              "      <td>Allison, Miss. Helen Loraine</td>\n",
              "      <td>female</td>\n",
              "      <td>2.00</td>\n",
              "      <td>1</td>\n",
              "      <td>2</td>\n",
              "      <td>113781</td>\n",
              "      <td>151.5500</td>\n",
              "      <td>C22 C26</td>\n",
              "      <td>S</td>\n",
              "      <td>NaN</td>\n",
              "      <td>NaN</td>\n",
              "      <td>Montreal, PQ / Chesterville, ON</td>\n",
              "    </tr>\n",
              "    <tr>\n",
              "      <th>3</th>\n",
              "      <td>1</td>\n",
              "      <td>0</td>\n",
              "      <td>Allison, Mr. Hudson Joshua Creighton</td>\n",
              "      <td>male</td>\n",
              "      <td>30.00</td>\n",
              "      <td>1</td>\n",
              "      <td>2</td>\n",
              "      <td>113781</td>\n",
              "      <td>151.5500</td>\n",
              "      <td>C22 C26</td>\n",
              "      <td>S</td>\n",
              "      <td>NaN</td>\n",
              "      <td>135.0</td>\n",
              "      <td>Montreal, PQ / Chesterville, ON</td>\n",
              "    </tr>\n",
              "    <tr>\n",
              "      <th>4</th>\n",
              "      <td>1</td>\n",
              "      <td>0</td>\n",
              "      <td>Allison, Mrs. Hudson J C (Bessie Waldo Daniels)</td>\n",
              "      <td>female</td>\n",
              "      <td>25.00</td>\n",
              "      <td>1</td>\n",
              "      <td>2</td>\n",
              "      <td>113781</td>\n",
              "      <td>151.5500</td>\n",
              "      <td>C22 C26</td>\n",
              "      <td>S</td>\n",
              "      <td>NaN</td>\n",
              "      <td>NaN</td>\n",
              "      <td>Montreal, PQ / Chesterville, ON</td>\n",
              "    </tr>\n",
              "  </tbody>\n",
              "</table>\n",
              "</div>\n",
              "    <div class=\"colab-df-buttons\">\n",
              "\n",
              "  <div class=\"colab-df-container\">\n",
              "    <button class=\"colab-df-convert\" onclick=\"convertToInteractive('df-0f15f412-418d-49ef-a183-cb8cd7cba46d')\"\n",
              "            title=\"Convert this dataframe to an interactive table.\"\n",
              "            style=\"display:none;\">\n",
              "\n",
              "  <svg xmlns=\"http://www.w3.org/2000/svg\" height=\"24px\" viewBox=\"0 -960 960 960\">\n",
              "    <path d=\"M120-120v-720h720v720H120Zm60-500h600v-160H180v160Zm220 220h160v-160H400v160Zm0 220h160v-160H400v160ZM180-400h160v-160H180v160Zm440 0h160v-160H620v160ZM180-180h160v-160H180v160Zm440 0h160v-160H620v160Z\"/>\n",
              "  </svg>\n",
              "    </button>\n",
              "\n",
              "  <style>\n",
              "    .colab-df-container {\n",
              "      display:flex;\n",
              "      gap: 12px;\n",
              "    }\n",
              "\n",
              "    .colab-df-convert {\n",
              "      background-color: #E8F0FE;\n",
              "      border: none;\n",
              "      border-radius: 50%;\n",
              "      cursor: pointer;\n",
              "      display: none;\n",
              "      fill: #1967D2;\n",
              "      height: 32px;\n",
              "      padding: 0 0 0 0;\n",
              "      width: 32px;\n",
              "    }\n",
              "\n",
              "    .colab-df-convert:hover {\n",
              "      background-color: #E2EBFA;\n",
              "      box-shadow: 0px 1px 2px rgba(60, 64, 67, 0.3), 0px 1px 3px 1px rgba(60, 64, 67, 0.15);\n",
              "      fill: #174EA6;\n",
              "    }\n",
              "\n",
              "    .colab-df-buttons div {\n",
              "      margin-bottom: 4px;\n",
              "    }\n",
              "\n",
              "    [theme=dark] .colab-df-convert {\n",
              "      background-color: #3B4455;\n",
              "      fill: #D2E3FC;\n",
              "    }\n",
              "\n",
              "    [theme=dark] .colab-df-convert:hover {\n",
              "      background-color: #434B5C;\n",
              "      box-shadow: 0px 1px 3px 1px rgba(0, 0, 0, 0.15);\n",
              "      filter: drop-shadow(0px 1px 2px rgba(0, 0, 0, 0.3));\n",
              "      fill: #FFFFFF;\n",
              "    }\n",
              "  </style>\n",
              "\n",
              "    <script>\n",
              "      const buttonEl =\n",
              "        document.querySelector('#df-0f15f412-418d-49ef-a183-cb8cd7cba46d button.colab-df-convert');\n",
              "      buttonEl.style.display =\n",
              "        google.colab.kernel.accessAllowed ? 'block' : 'none';\n",
              "\n",
              "      async function convertToInteractive(key) {\n",
              "        const element = document.querySelector('#df-0f15f412-418d-49ef-a183-cb8cd7cba46d');\n",
              "        const dataTable =\n",
              "          await google.colab.kernel.invokeFunction('convertToInteractive',\n",
              "                                                    [key], {});\n",
              "        if (!dataTable) return;\n",
              "\n",
              "        const docLinkHtml = 'Like what you see? Visit the ' +\n",
              "          '<a target=\"_blank\" href=https://colab.research.google.com/notebooks/data_table.ipynb>data table notebook</a>'\n",
              "          + ' to learn more about interactive tables.';\n",
              "        element.innerHTML = '';\n",
              "        dataTable['output_type'] = 'display_data';\n",
              "        await google.colab.output.renderOutput(dataTable, element);\n",
              "        const docLink = document.createElement('div');\n",
              "        docLink.innerHTML = docLinkHtml;\n",
              "        element.appendChild(docLink);\n",
              "      }\n",
              "    </script>\n",
              "  </div>\n",
              "\n",
              "\n",
              "<div id=\"df-9dc31f6a-a819-4b0a-a15f-fc8aff881264\">\n",
              "  <button class=\"colab-df-quickchart\" onclick=\"quickchart('df-9dc31f6a-a819-4b0a-a15f-fc8aff881264')\"\n",
              "            title=\"Suggest charts.\"\n",
              "            style=\"display:none;\">\n",
              "\n",
              "<svg xmlns=\"http://www.w3.org/2000/svg\" height=\"24px\"viewBox=\"0 0 24 24\"\n",
              "     width=\"24px\">\n",
              "    <g>\n",
              "        <path d=\"M19 3H5c-1.1 0-2 .9-2 2v14c0 1.1.9 2 2 2h14c1.1 0 2-.9 2-2V5c0-1.1-.9-2-2-2zM9 17H7v-7h2v7zm4 0h-2V7h2v10zm4 0h-2v-4h2v4z\"/>\n",
              "    </g>\n",
              "</svg>\n",
              "  </button>\n",
              "\n",
              "<style>\n",
              "  .colab-df-quickchart {\n",
              "      --bg-color: #E8F0FE;\n",
              "      --fill-color: #1967D2;\n",
              "      --hover-bg-color: #E2EBFA;\n",
              "      --hover-fill-color: #174EA6;\n",
              "      --disabled-fill-color: #AAA;\n",
              "      --disabled-bg-color: #DDD;\n",
              "  }\n",
              "\n",
              "  [theme=dark] .colab-df-quickchart {\n",
              "      --bg-color: #3B4455;\n",
              "      --fill-color: #D2E3FC;\n",
              "      --hover-bg-color: #434B5C;\n",
              "      --hover-fill-color: #FFFFFF;\n",
              "      --disabled-bg-color: #3B4455;\n",
              "      --disabled-fill-color: #666;\n",
              "  }\n",
              "\n",
              "  .colab-df-quickchart {\n",
              "    background-color: var(--bg-color);\n",
              "    border: none;\n",
              "    border-radius: 50%;\n",
              "    cursor: pointer;\n",
              "    display: none;\n",
              "    fill: var(--fill-color);\n",
              "    height: 32px;\n",
              "    padding: 0;\n",
              "    width: 32px;\n",
              "  }\n",
              "\n",
              "  .colab-df-quickchart:hover {\n",
              "    background-color: var(--hover-bg-color);\n",
              "    box-shadow: 0 1px 2px rgba(60, 64, 67, 0.3), 0 1px 3px 1px rgba(60, 64, 67, 0.15);\n",
              "    fill: var(--button-hover-fill-color);\n",
              "  }\n",
              "\n",
              "  .colab-df-quickchart-complete:disabled,\n",
              "  .colab-df-quickchart-complete:disabled:hover {\n",
              "    background-color: var(--disabled-bg-color);\n",
              "    fill: var(--disabled-fill-color);\n",
              "    box-shadow: none;\n",
              "  }\n",
              "\n",
              "  .colab-df-spinner {\n",
              "    border: 2px solid var(--fill-color);\n",
              "    border-color: transparent;\n",
              "    border-bottom-color: var(--fill-color);\n",
              "    animation:\n",
              "      spin 1s steps(1) infinite;\n",
              "  }\n",
              "\n",
              "  @keyframes spin {\n",
              "    0% {\n",
              "      border-color: transparent;\n",
              "      border-bottom-color: var(--fill-color);\n",
              "      border-left-color: var(--fill-color);\n",
              "    }\n",
              "    20% {\n",
              "      border-color: transparent;\n",
              "      border-left-color: var(--fill-color);\n",
              "      border-top-color: var(--fill-color);\n",
              "    }\n",
              "    30% {\n",
              "      border-color: transparent;\n",
              "      border-left-color: var(--fill-color);\n",
              "      border-top-color: var(--fill-color);\n",
              "      border-right-color: var(--fill-color);\n",
              "    }\n",
              "    40% {\n",
              "      border-color: transparent;\n",
              "      border-right-color: var(--fill-color);\n",
              "      border-top-color: var(--fill-color);\n",
              "    }\n",
              "    60% {\n",
              "      border-color: transparent;\n",
              "      border-right-color: var(--fill-color);\n",
              "    }\n",
              "    80% {\n",
              "      border-color: transparent;\n",
              "      border-right-color: var(--fill-color);\n",
              "      border-bottom-color: var(--fill-color);\n",
              "    }\n",
              "    90% {\n",
              "      border-color: transparent;\n",
              "      border-bottom-color: var(--fill-color);\n",
              "    }\n",
              "  }\n",
              "</style>\n",
              "\n",
              "  <script>\n",
              "    async function quickchart(key) {\n",
              "      const quickchartButtonEl =\n",
              "        document.querySelector('#' + key + ' button');\n",
              "      quickchartButtonEl.disabled = true;  // To prevent multiple clicks.\n",
              "      quickchartButtonEl.classList.add('colab-df-spinner');\n",
              "      try {\n",
              "        const charts = await google.colab.kernel.invokeFunction(\n",
              "            'suggestCharts', [key], {});\n",
              "      } catch (error) {\n",
              "        console.error('Error during call to suggestCharts:', error);\n",
              "      }\n",
              "      quickchartButtonEl.classList.remove('colab-df-spinner');\n",
              "      quickchartButtonEl.classList.add('colab-df-quickchart-complete');\n",
              "    }\n",
              "    (() => {\n",
              "      let quickchartButtonEl =\n",
              "        document.querySelector('#df-9dc31f6a-a819-4b0a-a15f-fc8aff881264 button');\n",
              "      quickchartButtonEl.style.display =\n",
              "        google.colab.kernel.accessAllowed ? 'block' : 'none';\n",
              "    })();\n",
              "  </script>\n",
              "</div>\n",
              "    </div>\n",
              "  </div>\n"
            ]
          },
          "metadata": {},
          "execution_count": 11
        }
      ]
    },
    {
      "cell_type": "markdown",
      "source": [
        "# **Clone data from github**"
      ],
      "metadata": {
        "id": "W3p9SAD85s98"
      }
    },
    {
      "cell_type": "code",
      "source": [
        "!git clone https://github.com/pengfei123xiao/Natural-Language-Processing-with-Python.git"
      ],
      "metadata": {
        "colab": {
          "base_uri": "https://localhost:8080/"
        },
        "id": "s-jC1I-y5zXQ",
        "outputId": "af86b45b-8887-4808-f195-336831e16129"
      },
      "execution_count": 13,
      "outputs": [
        {
          "output_type": "stream",
          "name": "stdout",
          "text": [
            "Cloning into 'Natural-Language-Processing-with-Python'...\n",
            "remote: Enumerating objects: 2064, done.\u001b[K\n",
            "remote: Total 2064 (delta 0), reused 0 (delta 0), pack-reused 2064\u001b[K\n",
            "Receiving objects: 100% (2064/2064), 90.72 MiB | 23.27 MiB/s, done.\n",
            "Resolving deltas: 100% (30/30), done.\n",
            "Updating files: 100% (2127/2127), done.\n"
          ]
        }
      ]
    },
    {
      "cell_type": "code",
      "source": [],
      "metadata": {
        "id": "n04UoedTwUV0"
      },
      "execution_count": null,
      "outputs": []
    },
    {
      "cell_type": "markdown",
      "source": [
        "## This is the first **heading!**"
      ],
      "metadata": {
        "id": "TySoVMXv7hdR"
      }
    },
    {
      "cell_type": "code",
      "source": [],
      "metadata": {
        "id": "gGZRKVFv7qar"
      },
      "execution_count": null,
      "outputs": []
    },
    {
      "cell_type": "markdown",
      "source": [
        "\n",
        "\n",
        "```\n",
        "# This is formatted as code\n",
        "for item in list:\n",
        " print(item)\n",
        "```\n",
        "\n"
      ],
      "metadata": {
        "id": "6lwhpJXy8gEn"
      }
    },
    {
      "cell_type": "code",
      "source": [],
      "metadata": {
        "id": "CcTbVh-g8teI"
      },
      "execution_count": null,
      "outputs": []
    },
    {
      "cell_type": "markdown",
      "source": [
        "![download.jfif](data:image/jpeg;base64,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)"
      ],
      "metadata": {
        "id": "GKOD27rY9GiX"
      }
    },
    {
      "cell_type": "code",
      "source": [],
      "metadata": {
        "id": "c7C41d-m9JO2"
      },
      "execution_count": null,
      "outputs": []
    },
    {
      "cell_type": "markdown",
      "source": [
        "[The Univeristy of Dodoma](https://www.udom.ac.tz)"
      ],
      "metadata": {
        "id": "DBdVrXwe9SLo"
      }
    },
    {
      "cell_type": "code",
      "source": [],
      "metadata": {
        "id": "opBRmXl79inR"
      },
      "execution_count": null,
      "outputs": []
    },
    {
      "cell_type": "markdown",
      "source": [
        "☹"
      ],
      "metadata": {
        "id": "wovwLliR_R6Y"
      }
    },
    {
      "cell_type": "code",
      "source": [],
      "metadata": {
        "id": "9zDjIkMv_ZWE"
      },
      "execution_count": null,
      "outputs": []
    },
    {
      "cell_type": "markdown",
      "source": [
        "$ ax +bx^2 +yx^3 = 0 $"
      ],
      "metadata": {
        "id": "0xfxdMZU_aE3"
      }
    },
    {
      "cell_type": "code",
      "source": [],
      "metadata": {
        "id": "LY8xRczz_5gl"
      },
      "execution_count": null,
      "outputs": []
    }
  ]
}